{
 "cells": [
  {
   "cell_type": "code",
   "execution_count": null,
   "metadata": {},
   "outputs": [],
   "source": [
    "import pandas as pd\n",
    "dataTrain = pd.read_csv(\"tsv/train.tsv\", sep='\\t')\n",
    "\n",
    "dataValid = pd.read_csv(\"tsv/validation.tsv\", sep='\\t')\n",
    "dataTest = pd.read_csv(\"tsv/test.tsv\", sep='\\t')"
   ]
  },
  {
   "cell_type": "code",
   "execution_count": null,
   "metadata": {},
   "outputs": [],
   "source": [
    "import math\n",
    "total = len(dataTrain)\n",
    "batch_size = math.floor(total * 10/100)\n",
    "\n",
    "max_batch_i = math.floor(total/batch_size)\n",
    "# batch_df = train_valid_df[batch_i*batch_size:(batch_i+1)*batch_size]\n",
    "print(f'total: {total}, batch_size: {batch_size}, max_batch_i: {max_batch_i}')\n",
    "\n",
    "\n",
    "batch_i = 9 # 0 - 9\n",
    "if batch_i == max_batch_i - 1:\n",
    "    batch_df = dataTrain[batch_i*batch_size:]\n",
    "else :\n",
    "    batch_df = dataTrain[batch_i*batch_size:(batch_i+1)*batch_size]\n",
    "print(len(batch_df))\n"
   ]
  },
  {
   "cell_type": "code",
   "execution_count": null,
   "metadata": {},
   "outputs": [],
   "source": [
    "# batch_df = dataTest"
   ]
  },
  {
   "cell_type": "code",
   "execution_count": null,
   "metadata": {},
   "outputs": [],
   "source": [
    "batch_df.shape"
   ]
  },
  {
   "cell_type": "markdown",
   "metadata": {},
   "source": [
    "### Run this 2 times cos some files fails to download on the first run"
   ]
  },
  {
   "cell_type": "code",
   "execution_count": null,
   "metadata": {},
   "outputs": [],
   "source": [
    "import pandas as pd\n",
    "import requests\n",
    "import os\n",
    "from tqdm.auto import tqdm\n",
    "from concurrent.futures import ThreadPoolExecutor\n",
    "\n",
    "def download_file(url, folder_path, file_name):\n",
    "    file_name = file_name.replace('.wav', '').replace('.mp3', '')\n",
    "\n",
    "    ext = url.split('.')[-1]\n",
    "    file_name = os.path.join(folder_path, f\"{file_name}.{ext}\")\n",
    "\n",
    "    # Skip downloading if the file already exists\n",
    "    if os.path.exists(file_name):\n",
    "        # print(f\"File already exists: {file_name}\")\n",
    "        return\n",
    "    \n",
    "    try:\n",
    "        response = requests.get(url, stream=True)\n",
    "        if response.status_code == 200:\n",
    "            with open(file_name, 'wb') as f:\n",
    "                for chunk in response.iter_content(chunk_size=128):\n",
    "                    f.write(chunk)\n",
    "            print(f\"Downloaded: {file_name}\")\n",
    "        else:\n",
    "            print(f\"Failed to download from {url}\")\n",
    "    except Exception as e:\n",
    "        print(f\"Error occurred for {url}: {str(e)}\")\n",
    "\n",
    "def download_audio_files(df, folder_path, max_workers=5):\n",
    "    if not os.path.exists(folder_path):\n",
    "        os.makedirs(folder_path)\n",
    "\n",
    "    with ThreadPoolExecutor(max_workers=max_workers) as executor:\n",
    "        for index, row in df.iterrows():\n",
    "            executor.submit(download_file, row['url'], folder_path, row['file_name'])\n",
    "\n",
    "download_audio_files(batch_df, '/media/monlamai/SSD/wav2vec2/segments')"
   ]
  },
  {
   "cell_type": "code",
   "execution_count": null,
   "metadata": {},
   "outputs": [],
   "source": [
    "batch_df[batch_df['file_name'] == 'STT_TT00234_00966.800-00969.300'].to_csv('test.csv', index=False)"
   ]
  },
  {
   "cell_type": "markdown",
   "metadata": {},
   "source": [
    "## Convert files to wav"
   ]
  },
  {
   "cell_type": "code",
   "execution_count": null,
   "metadata": {},
   "outputs": [],
   "source": [
    "import os\n",
    "import magic\n",
    "from tqdm.auto import tqdm\n",
    "from pydub import AudioSegment\n",
    "\n",
    "def resample_and_convert(df, folder_path, target_sample_rate=16000):\n",
    "    # Initialize the magic library\n",
    "    mime = magic.Magic(mime=True)\n",
    "\n",
    "    for _, row in tqdm(df.iterrows(), total=len(df)):\n",
    "        filename = row['file_name'].replace('.mp3', '').replace('.wav', '') + '.' +row['url'].split('.')[-1]\n",
    "\n",
    "        file_path = os.path.join(folder_path, filename)\n",
    "        file_mime_type = mime.from_file(file_path)\n",
    "        new_filename = filename.replace('.wav','').replace('.mp3','') + '.wav'\n",
    "        new_file_path = os.path.join(folder_path, new_filename)\n",
    "\n",
    "        if 'audio' in file_mime_type:\n",
    "            # Process audio files\n",
    "            # print(f\"Processing {filename}...\")\n",
    "            audio = AudioSegment.from_file(file_path)\n",
    "\n",
    "            if 'mpeg' in file_mime_type or audio.frame_rate != target_sample_rate or filename.endswith('.mp3'):\n",
    "                # Convert to wav and resample if it's mp3 or sample rate is different\n",
    "                resampled_audio = audio.set_frame_rate(target_sample_rate)\n",
    "                resampled_audio.export(new_file_path, format='wav')\n",
    "                print(f\"{filename} has been converted and resampled to {new_filename}.\")\n",
    "\n",
    "resample_and_convert(batch_df, '/media/monlamai/SSD/wav2vec2/segments/')"
   ]
  },
  {
   "cell_type": "markdown",
   "metadata": {},
   "source": [
    "## Confirm if the files are correct"
   ]
  },
  {
   "cell_type": "code",
   "execution_count": null,
   "metadata": {},
   "outputs": [],
   "source": [
    "import os\n",
    "import magic\n",
    "from pydub import AudioSegment\n",
    "from tqdm.auto import tqdm\n",
    "\n",
    "\n",
    "segments = '/media/monlamai/SSD/wav2vec2/segments/'\n",
    "mime = magic.Magic(mime=True)\n",
    "for index, row in tqdm(batch_df.iterrows(), total=len(batch_df)):\n",
    "    wav_file_name = row['file_name'].replace('.mp3', '').replace('.wav', '') + '.wav'\n",
    "    if not os.path.exists(f'{segments}{wav_file_name}'):\n",
    "        print(f'{wav_file_name} not found')\n",
    "        continue\n",
    "    file_mime_type = mime.from_file(f'{segments}{wav_file_name}')\n",
    "    if 'mpeg' in file_mime_type:\n",
    "        print(f'{wav_file_name} is mpeg')\n",
    "        continue\n",
    "    audio = AudioSegment.from_file(f'{segments}{wav_file_name}')\n",
    "    if audio.frame_rate != 16000:\n",
    "        print(f'{wav_file_name} is not 16000')\n",
    "        continue\n",
    "        "
   ]
  },
  {
   "cell_type": "code",
   "execution_count": null,
   "metadata": {},
   "outputs": [],
   "source": [
    "batch_df['path'] = batch_df['file_name'].apply(lambda x: f'/media/monlamai/SSD/wav2vec2/segments/{x.replace(\".wav\",\"\").replace(\".mp3\",\"\")}.wav')"
   ]
  },
  {
   "cell_type": "code",
   "execution_count": null,
   "metadata": {},
   "outputs": [],
   "source": [
    "import os\n",
    "batch_df['path'].apply(lambda x: os.path.isfile(x)).value_counts()"
   ]
  }
 ],
 "metadata": {
  "kernelspec": {
   "display_name": ".env",
   "language": "python",
   "name": "python3"
  },
  "language_info": {
   "codemirror_mode": {
    "name": "ipython",
    "version": 3
   },
   "file_extension": ".py",
   "mimetype": "text/x-python",
   "name": "python",
   "nbconvert_exporter": "python",
   "pygments_lexer": "ipython3",
   "version": "3.10.12"
  }
 },
 "nbformat": 4,
 "nbformat_minor": 2
}
